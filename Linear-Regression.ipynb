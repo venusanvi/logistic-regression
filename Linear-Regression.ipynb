{
 "cells": [
  {
   "cell_type": "code",
   "execution_count": 2,
   "id": "47e1f9e5",
   "metadata": {},
   "outputs": [],
   "source": [
    "import pandas as pd\n",
    "import numpy as np\n",
    "import matplotlib.pyplot as plt\n",
    "import seaborn as sns\n",
    "%matplotlib inline"
   ]
  },
  {
   "cell_type": "code",
   "execution_count": 5,
   "id": "63fe9d20",
   "metadata": {},
   "outputs": [],
   "source": [
    "df=pd.read_csv(\"insurance.csv\")"
   ]
  },
  {
   "cell_type": "code",
   "execution_count": 6,
   "id": "3ac5289f",
   "metadata": {},
   "outputs": [
    {
     "data": {
      "text/html": [
       "<div>\n",
       "<style scoped>\n",
       "    .dataframe tbody tr th:only-of-type {\n",
       "        vertical-align: middle;\n",
       "    }\n",
       "\n",
       "    .dataframe tbody tr th {\n",
       "        vertical-align: top;\n",
       "    }\n",
       "\n",
       "    .dataframe thead th {\n",
       "        text-align: right;\n",
       "    }\n",
       "</style>\n",
       "<table border=\"1\" class=\"dataframe\">\n",
       "  <thead>\n",
       "    <tr style=\"text-align: right;\">\n",
       "      <th></th>\n",
       "      <th>age</th>\n",
       "      <th>sex</th>\n",
       "      <th>bmi</th>\n",
       "      <th>children</th>\n",
       "      <th>smoker</th>\n",
       "      <th>region</th>\n",
       "      <th>charges</th>\n",
       "    </tr>\n",
       "  </thead>\n",
       "  <tbody>\n",
       "    <tr>\n",
       "      <th>0</th>\n",
       "      <td>19</td>\n",
       "      <td>female</td>\n",
       "      <td>27.900</td>\n",
       "      <td>0</td>\n",
       "      <td>yes</td>\n",
       "      <td>southwest</td>\n",
       "      <td>16884.92400</td>\n",
       "    </tr>\n",
       "    <tr>\n",
       "      <th>1</th>\n",
       "      <td>18</td>\n",
       "      <td>male</td>\n",
       "      <td>33.770</td>\n",
       "      <td>1</td>\n",
       "      <td>no</td>\n",
       "      <td>southeast</td>\n",
       "      <td>1725.55230</td>\n",
       "    </tr>\n",
       "    <tr>\n",
       "      <th>2</th>\n",
       "      <td>28</td>\n",
       "      <td>male</td>\n",
       "      <td>33.000</td>\n",
       "      <td>3</td>\n",
       "      <td>no</td>\n",
       "      <td>southeast</td>\n",
       "      <td>4449.46200</td>\n",
       "    </tr>\n",
       "    <tr>\n",
       "      <th>3</th>\n",
       "      <td>33</td>\n",
       "      <td>male</td>\n",
       "      <td>22.705</td>\n",
       "      <td>0</td>\n",
       "      <td>no</td>\n",
       "      <td>northwest</td>\n",
       "      <td>21984.47061</td>\n",
       "    </tr>\n",
       "    <tr>\n",
       "      <th>4</th>\n",
       "      <td>32</td>\n",
       "      <td>male</td>\n",
       "      <td>28.880</td>\n",
       "      <td>0</td>\n",
       "      <td>no</td>\n",
       "      <td>northwest</td>\n",
       "      <td>3866.85520</td>\n",
       "    </tr>\n",
       "  </tbody>\n",
       "</table>\n",
       "</div>"
      ],
      "text/plain": [
       "   age     sex     bmi  children smoker     region      charges\n",
       "0   19  female  27.900         0    yes  southwest  16884.92400\n",
       "1   18    male  33.770         1     no  southeast   1725.55230\n",
       "2   28    male  33.000         3     no  southeast   4449.46200\n",
       "3   33    male  22.705         0     no  northwest  21984.47061\n",
       "4   32    male  28.880         0     no  northwest   3866.85520"
      ]
     },
     "execution_count": 6,
     "metadata": {},
     "output_type": "execute_result"
    }
   ],
   "source": [
    "df.head()"
   ]
  },
  {
   "cell_type": "code",
   "execution_count": 7,
   "id": "2a757a80",
   "metadata": {},
   "outputs": [
    {
     "name": "stdout",
     "output_type": "stream",
     "text": [
      "<class 'pandas.core.frame.DataFrame'>\n",
      "RangeIndex: 1338 entries, 0 to 1337\n",
      "Data columns (total 7 columns):\n",
      " #   Column    Non-Null Count  Dtype  \n",
      "---  ------    --------------  -----  \n",
      " 0   age       1338 non-null   int64  \n",
      " 1   sex       1338 non-null   object \n",
      " 2   bmi       1338 non-null   float64\n",
      " 3   children  1338 non-null   int64  \n",
      " 4   smoker    1338 non-null   object \n",
      " 5   region    1338 non-null   object \n",
      " 6   charges   1338 non-null   float64\n",
      "dtypes: float64(2), int64(2), object(3)\n",
      "memory usage: 73.3+ KB\n"
     ]
    }
   ],
   "source": [
    "df.info()"
   ]
  },
  {
   "cell_type": "code",
   "execution_count": 8,
   "id": "06c0ed5d",
   "metadata": {},
   "outputs": [
    {
     "data": {
      "text/html": [
       "<div>\n",
       "<style scoped>\n",
       "    .dataframe tbody tr th:only-of-type {\n",
       "        vertical-align: middle;\n",
       "    }\n",
       "\n",
       "    .dataframe tbody tr th {\n",
       "        vertical-align: top;\n",
       "    }\n",
       "\n",
       "    .dataframe thead th {\n",
       "        text-align: right;\n",
       "    }\n",
       "</style>\n",
       "<table border=\"1\" class=\"dataframe\">\n",
       "  <thead>\n",
       "    <tr style=\"text-align: right;\">\n",
       "      <th></th>\n",
       "      <th>age</th>\n",
       "      <th>bmi</th>\n",
       "      <th>children</th>\n",
       "      <th>charges</th>\n",
       "    </tr>\n",
       "  </thead>\n",
       "  <tbody>\n",
       "    <tr>\n",
       "      <th>count</th>\n",
       "      <td>1338.000000</td>\n",
       "      <td>1338.000000</td>\n",
       "      <td>1338.000000</td>\n",
       "      <td>1338.000000</td>\n",
       "    </tr>\n",
       "    <tr>\n",
       "      <th>mean</th>\n",
       "      <td>39.207025</td>\n",
       "      <td>30.663397</td>\n",
       "      <td>1.094918</td>\n",
       "      <td>13270.422265</td>\n",
       "    </tr>\n",
       "    <tr>\n",
       "      <th>std</th>\n",
       "      <td>14.049960</td>\n",
       "      <td>6.098187</td>\n",
       "      <td>1.205493</td>\n",
       "      <td>12110.011237</td>\n",
       "    </tr>\n",
       "    <tr>\n",
       "      <th>min</th>\n",
       "      <td>18.000000</td>\n",
       "      <td>15.960000</td>\n",
       "      <td>0.000000</td>\n",
       "      <td>1121.873900</td>\n",
       "    </tr>\n",
       "    <tr>\n",
       "      <th>25%</th>\n",
       "      <td>27.000000</td>\n",
       "      <td>26.296250</td>\n",
       "      <td>0.000000</td>\n",
       "      <td>4740.287150</td>\n",
       "    </tr>\n",
       "    <tr>\n",
       "      <th>50%</th>\n",
       "      <td>39.000000</td>\n",
       "      <td>30.400000</td>\n",
       "      <td>1.000000</td>\n",
       "      <td>9382.033000</td>\n",
       "    </tr>\n",
       "    <tr>\n",
       "      <th>75%</th>\n",
       "      <td>51.000000</td>\n",
       "      <td>34.693750</td>\n",
       "      <td>2.000000</td>\n",
       "      <td>16639.912515</td>\n",
       "    </tr>\n",
       "    <tr>\n",
       "      <th>max</th>\n",
       "      <td>64.000000</td>\n",
       "      <td>53.130000</td>\n",
       "      <td>5.000000</td>\n",
       "      <td>63770.428010</td>\n",
       "    </tr>\n",
       "  </tbody>\n",
       "</table>\n",
       "</div>"
      ],
      "text/plain": [
       "               age          bmi     children       charges\n",
       "count  1338.000000  1338.000000  1338.000000   1338.000000\n",
       "mean     39.207025    30.663397     1.094918  13270.422265\n",
       "std      14.049960     6.098187     1.205493  12110.011237\n",
       "min      18.000000    15.960000     0.000000   1121.873900\n",
       "25%      27.000000    26.296250     0.000000   4740.287150\n",
       "50%      39.000000    30.400000     1.000000   9382.033000\n",
       "75%      51.000000    34.693750     2.000000  16639.912515\n",
       "max      64.000000    53.130000     5.000000  63770.428010"
      ]
     },
     "execution_count": 8,
     "metadata": {},
     "output_type": "execute_result"
    }
   ],
   "source": [
    "df.describe()"
   ]
  },
  {
   "cell_type": "code",
   "execution_count": 9,
   "id": "60e6126f",
   "metadata": {},
   "outputs": [
    {
     "data": {
      "text/plain": [
       "age         0\n",
       "sex         0\n",
       "bmi         0\n",
       "children    0\n",
       "smoker      0\n",
       "region      0\n",
       "charges     0\n",
       "dtype: int64"
      ]
     },
     "execution_count": 9,
     "metadata": {},
     "output_type": "execute_result"
    }
   ],
   "source": [
    "df.isna().sum()"
   ]
  },
  {
   "cell_type": "code",
   "execution_count": 10,
   "id": "4f273da3",
   "metadata": {},
   "outputs": [],
   "source": [
    "df_X = df[['bmi','children','charges']]\n"
   ]
  },
  {
   "cell_type": "code",
   "execution_count": 14,
   "id": "f43a2dc6",
   "metadata": {},
   "outputs": [],
   "source": [
    "df_y=df['age']"
   ]
  },
  {
   "cell_type": "code",
   "execution_count": 12,
   "id": "45bbeb72",
   "metadata": {},
   "outputs": [
    {
     "data": {
      "text/html": [
       "<div>\n",
       "<style scoped>\n",
       "    .dataframe tbody tr th:only-of-type {\n",
       "        vertical-align: middle;\n",
       "    }\n",
       "\n",
       "    .dataframe tbody tr th {\n",
       "        vertical-align: top;\n",
       "    }\n",
       "\n",
       "    .dataframe thead th {\n",
       "        text-align: right;\n",
       "    }\n",
       "</style>\n",
       "<table border=\"1\" class=\"dataframe\">\n",
       "  <thead>\n",
       "    <tr style=\"text-align: right;\">\n",
       "      <th></th>\n",
       "      <th>bmi</th>\n",
       "      <th>children</th>\n",
       "      <th>charges</th>\n",
       "    </tr>\n",
       "  </thead>\n",
       "  <tbody>\n",
       "    <tr>\n",
       "      <th>0</th>\n",
       "      <td>27.900</td>\n",
       "      <td>0</td>\n",
       "      <td>16884.92400</td>\n",
       "    </tr>\n",
       "    <tr>\n",
       "      <th>1</th>\n",
       "      <td>33.770</td>\n",
       "      <td>1</td>\n",
       "      <td>1725.55230</td>\n",
       "    </tr>\n",
       "    <tr>\n",
       "      <th>2</th>\n",
       "      <td>33.000</td>\n",
       "      <td>3</td>\n",
       "      <td>4449.46200</td>\n",
       "    </tr>\n",
       "    <tr>\n",
       "      <th>3</th>\n",
       "      <td>22.705</td>\n",
       "      <td>0</td>\n",
       "      <td>21984.47061</td>\n",
       "    </tr>\n",
       "    <tr>\n",
       "      <th>4</th>\n",
       "      <td>28.880</td>\n",
       "      <td>0</td>\n",
       "      <td>3866.85520</td>\n",
       "    </tr>\n",
       "    <tr>\n",
       "      <th>...</th>\n",
       "      <td>...</td>\n",
       "      <td>...</td>\n",
       "      <td>...</td>\n",
       "    </tr>\n",
       "    <tr>\n",
       "      <th>1333</th>\n",
       "      <td>30.970</td>\n",
       "      <td>3</td>\n",
       "      <td>10600.54830</td>\n",
       "    </tr>\n",
       "    <tr>\n",
       "      <th>1334</th>\n",
       "      <td>31.920</td>\n",
       "      <td>0</td>\n",
       "      <td>2205.98080</td>\n",
       "    </tr>\n",
       "    <tr>\n",
       "      <th>1335</th>\n",
       "      <td>36.850</td>\n",
       "      <td>0</td>\n",
       "      <td>1629.83350</td>\n",
       "    </tr>\n",
       "    <tr>\n",
       "      <th>1336</th>\n",
       "      <td>25.800</td>\n",
       "      <td>0</td>\n",
       "      <td>2007.94500</td>\n",
       "    </tr>\n",
       "    <tr>\n",
       "      <th>1337</th>\n",
       "      <td>29.070</td>\n",
       "      <td>0</td>\n",
       "      <td>29141.36030</td>\n",
       "    </tr>\n",
       "  </tbody>\n",
       "</table>\n",
       "<p>1338 rows × 3 columns</p>\n",
       "</div>"
      ],
      "text/plain": [
       "         bmi  children      charges\n",
       "0     27.900         0  16884.92400\n",
       "1     33.770         1   1725.55230\n",
       "2     33.000         3   4449.46200\n",
       "3     22.705         0  21984.47061\n",
       "4     28.880         0   3866.85520\n",
       "...      ...       ...          ...\n",
       "1333  30.970         3  10600.54830\n",
       "1334  31.920         0   2205.98080\n",
       "1335  36.850         0   1629.83350\n",
       "1336  25.800         0   2007.94500\n",
       "1337  29.070         0  29141.36030\n",
       "\n",
       "[1338 rows x 3 columns]"
      ]
     },
     "execution_count": 12,
     "metadata": {},
     "output_type": "execute_result"
    }
   ],
   "source": [
    "df_X "
   ]
  },
  {
   "cell_type": "code",
   "execution_count": 16,
   "id": "ca392baa",
   "metadata": {},
   "outputs": [
    {
     "data": {
      "text/plain": [
       "0       19\n",
       "1       18\n",
       "2       28\n",
       "3       33\n",
       "4       32\n",
       "        ..\n",
       "1333    50\n",
       "1334    18\n",
       "1335    18\n",
       "1336    21\n",
       "1337    61\n",
       "Name: age, Length: 1338, dtype: int64"
      ]
     },
     "execution_count": 16,
     "metadata": {},
     "output_type": "execute_result"
    }
   ],
   "source": [
    "df_y\n"
   ]
  },
  {
   "cell_type": "code",
   "execution_count": 17,
   "id": "d169e8fd",
   "metadata": {},
   "outputs": [],
   "source": [
    "from sklearn.model_selection import train_test_split\n"
   ]
  },
  {
   "cell_type": "code",
   "execution_count": 19,
   "id": "80d728ee",
   "metadata": {},
   "outputs": [],
   "source": [
    "X_train, X_test, y_train, y_test = train_test_split(df_X, df_y, train_size = 0.7)\n"
   ]
  },
  {
   "cell_type": "code",
   "execution_count": 20,
   "id": "26039324",
   "metadata": {},
   "outputs": [],
   "source": [
    "from sklearn.linear_model import LinearRegression\n"
   ]
  },
  {
   "cell_type": "code",
   "execution_count": 21,
   "id": "26f61c1b",
   "metadata": {},
   "outputs": [],
   "source": [
    "model = LinearRegression()\n"
   ]
  },
  {
   "cell_type": "code",
   "execution_count": 22,
   "id": "5ef7ae4e",
   "metadata": {},
   "outputs": [
    {
     "data": {
      "text/plain": [
       "LinearRegression()"
      ]
     },
     "execution_count": 22,
     "metadata": {},
     "output_type": "execute_result"
    }
   ],
   "source": [
    "model.fit(X_train,y_train)\n"
   ]
  },
  {
   "cell_type": "code",
   "execution_count": 23,
   "id": "03010a34",
   "metadata": {},
   "outputs": [
    {
     "name": "stdout",
     "output_type": "stream",
     "text": [
      "         bmi  children      charges\n",
      "1078  31.680         0  34672.14720\n",
      "29    36.300         2  38711.00000\n",
      "535   28.025         1   6067.12675\n",
      "1027  18.715         0  21595.38229\n",
      "123   31.350         1  39556.49450\n",
      "...      ...       ...          ...\n",
      "584   20.700         0   1242.81600\n",
      "25    27.720         3  14001.13380\n",
      "416   34.100         0   9140.95100\n",
      "466   28.700         1  13224.69300\n",
      "93    34.770         2   5729.00530\n",
      "\n",
      "[402 rows x 3 columns]\n"
     ]
    }
   ],
   "source": [
    "print(X_test)\n"
   ]
  },
  {
   "cell_type": "code",
   "execution_count": 24,
   "id": "1cc16ea4",
   "metadata": {},
   "outputs": [],
   "source": [
    "pred_sp = model.predict(X_test)\n"
   ]
  },
  {
   "cell_type": "code",
   "execution_count": 25,
   "id": "98d4c134",
   "metadata": {},
   "outputs": [
    {
     "data": {
      "text/plain": [
       "array([48.22608592, 50.13991849, 36.75131636, 41.77949301, 49.99658701,\n",
       "       37.61362641, 34.83429289, 39.36506743, 36.40697751, 37.11293634,\n",
       "       38.10606722, 39.20036946, 36.32490232, 39.58565202, 51.26786982,\n",
       "       37.18939687, 43.88993   , 43.21166799, 41.765935  , 37.48011647,\n",
       "       45.81583652, 36.52116154, 48.40786478, 38.75938026, 36.63564745,\n",
       "       46.91616979, 49.9681903 , 35.22650605, 38.31749903, 35.78821904,\n",
       "       39.42406233, 50.56645141, 35.75996504, 36.07808952, 36.30688295,\n",
       "       37.29397447, 36.37883351, 45.90314291, 38.47936216, 37.79035966,\n",
       "       38.51026258, 37.96847844, 37.79775995, 38.67238696, 40.14878046,\n",
       "       53.29505371, 51.81292687, 45.27734012, 36.29501153, 47.65719752,\n",
       "       40.70190054, 35.5349505 , 37.27958066, 37.56547877, 42.2598135 ,\n",
       "       37.24211065, 42.54484703, 39.54290465, 39.52560995, 51.99686155,\n",
       "       37.19311986, 50.10365273, 43.26535871, 37.6841845 , 49.6537442 ,\n",
       "       39.47170301, 43.88030477, 35.79392084, 40.23367321, 37.49984918,\n",
       "       35.54257354, 40.88802081, 35.63874462, 35.92971827, 37.0618241 ,\n",
       "       50.7133696 , 45.20633867, 39.63745136, 36.60036448, 38.66458573,\n",
       "       40.14005565, 38.47986991, 47.545737  , 35.23252212, 36.55676719,\n",
       "       38.23924782, 37.44316757, 37.70757033, 36.82614074, 37.96760539,\n",
       "       38.74837148, 36.19115416, 37.23004831, 49.98735196, 36.81304652,\n",
       "       36.69673639, 35.33936971, 52.04633812, 36.5803962 , 35.36372565,\n",
       "       49.3508918 , 40.29653849, 50.50784072, 36.57744605, 55.24103969,\n",
       "       41.84851027, 35.07844876, 39.22007609, 48.63808943, 45.3260731 ,\n",
       "       37.72284503, 53.36203043, 38.28932874, 34.75005086, 44.37161151,\n",
       "       39.1488056 , 36.68173723, 37.47834012, 35.78178039, 38.80060612,\n",
       "       35.14852176, 36.20387277, 35.38987926, 36.59492347, 50.87622916,\n",
       "       37.97756673, 40.06456369, 52.45775338, 34.28469273, 35.94306864,\n",
       "       38.16971551, 34.43071325, 45.27599043, 43.26423938, 36.24748895,\n",
       "       41.70957303, 34.91743998, 38.35435173, 39.19394953, 39.53636127,\n",
       "       36.49713967, 49.12710268, 39.78641485, 35.38148343, 38.74650302,\n",
       "       36.3345162 , 39.15162333, 35.45290358, 36.36526387, 50.75316865,\n",
       "       39.20650417, 35.58082622, 36.00037262, 44.14541305, 41.01816114,\n",
       "       37.50706509, 41.66486335, 39.10478743, 35.06356975, 43.80305398,\n",
       "       38.55633246, 53.99364538, 37.11098054, 41.42630078, 40.35156456,\n",
       "       41.88474305, 45.87786944, 36.542391  , 38.67558037, 34.41118028,\n",
       "       48.72061098, 35.61167196, 37.7421699 , 35.84935459, 34.67881235,\n",
       "       42.39403417, 40.60249689, 51.5416282 , 36.25551586, 47.79212908,\n",
       "       37.40478738, 39.89219708, 39.98684274, 38.96071088, 39.58349097,\n",
       "       39.3526557 , 39.2297984 , 35.78783134, 36.06648529, 35.45195952,\n",
       "       41.75823822, 51.16141557, 39.58919544, 35.39497721, 38.23429648,\n",
       "       37.25472113, 48.29296783, 40.91041704, 37.74637275, 36.93557051,\n",
       "       40.66369175, 41.19047671, 36.16052123, 35.01293127, 34.74211905,\n",
       "       38.17078622, 41.02404272, 34.86246062, 37.57462045, 42.54608384,\n",
       "       41.20145589, 37.19452863, 38.96992131, 43.43465464, 41.95505677,\n",
       "       49.56432052, 39.95163372, 38.57962965, 43.10225039, 42.84712486,\n",
       "       39.10450238, 45.4310454 , 36.40870035, 42.40830891, 47.8977069 ,\n",
       "       48.06151426, 43.86740861, 36.34924965, 47.25290898, 45.37662528,\n",
       "       35.29834629, 37.00774838, 39.66016438, 38.18003843, 38.6280185 ,\n",
       "       37.89205054, 48.25851515, 39.6035852 , 50.80645063, 36.92655105,\n",
       "       38.18467354, 49.98642508, 39.50035004, 36.04415549, 41.15867538,\n",
       "       52.28636198, 36.85413047, 38.63396401, 39.73154266, 37.86810733,\n",
       "       36.96235245, 35.75115438, 35.88462168, 36.9343877 , 36.11689236,\n",
       "       36.2390929 , 36.19387734, 48.59829624, 48.6083006 , 35.35535075,\n",
       "       41.45786534, 35.67488193, 35.6717394 , 38.26759971, 38.92847303,\n",
       "       36.19819676, 35.56816894, 38.17342107, 35.3547466 , 42.97105225,\n",
       "       50.74277507, 42.49109106, 58.82183627, 36.73175601, 34.79481829,\n",
       "       46.89594979, 35.70896038, 34.34467984, 42.40520511, 39.52197619,\n",
       "       51.55968328, 40.72070919, 49.70940161, 39.84578129, 46.38227159,\n",
       "       37.85464294, 38.3901497 , 34.34382836, 36.13180146, 37.29989579,\n",
       "       35.46380972, 37.18470295, 50.08549925, 37.30290855, 41.50913435,\n",
       "       50.20643026, 37.69621664, 36.16529505, 39.47234544, 44.99712123,\n",
       "       38.86703717, 40.58298085, 37.85245224, 34.60580209, 40.82398692,\n",
       "       38.48383726, 35.13372209, 50.11209212, 37.01843962, 34.96982817,\n",
       "       39.05733198, 41.73466242, 36.93876591, 35.01907588, 41.6608366 ,\n",
       "       39.61465141, 46.0811534 , 37.44632803, 34.90718314, 35.87021547,\n",
       "       41.90056135, 38.78468452, 37.74940957, 40.01404508, 47.93964558,\n",
       "       34.59537205, 35.08048553, 35.75040305, 35.04587935, 37.43148765,\n",
       "       35.27507009, 35.51801703, 36.36380173, 42.39867284, 37.65908572,\n",
       "       35.99454857, 49.39757434, 41.86451947, 37.16212917, 54.22194691,\n",
       "       36.10693314, 37.7955794 , 39.54638548, 43.61166575, 37.74311219,\n",
       "       37.02448853, 42.5121299 , 37.36794444, 35.70909577, 38.23287358,\n",
       "       36.68523808, 39.62472142, 55.02501564, 35.86595989, 37.83915221,\n",
       "       38.71737396, 36.91348145, 40.52756529, 35.80363814, 52.57919038,\n",
       "       50.40897707, 34.60102291, 37.27878571, 43.48056346, 37.25993259,\n",
       "       37.51743992, 37.86961897, 39.05913295, 39.12417301, 38.72452778,\n",
       "       36.40991821, 39.99791246, 37.61329469, 38.06313768, 44.53629501,\n",
       "       37.50595485, 42.55703389, 40.68118665, 36.01486996, 37.52010386,\n",
       "       43.02713172, 35.80399084, 36.80783439, 41.16590963, 39.14687016,\n",
       "       37.21480561, 36.11215145, 36.74462967, 46.83485409, 35.54749857,\n",
       "       41.0309394 , 35.97919354, 38.77032067, 36.57582171, 38.69187047,\n",
       "       35.60465719, 37.01879922, 34.16756042, 39.62537447, 38.66967113,\n",
       "       39.57828812, 37.28592667])"
      ]
     },
     "execution_count": 25,
     "metadata": {},
     "output_type": "execute_result"
    }
   ],
   "source": [
    "pred_sp\n"
   ]
  },
  {
   "cell_type": "code",
   "execution_count": 26,
   "id": "0febf87d",
   "metadata": {},
   "outputs": [
    {
     "data": {
      "text/plain": [
       "31.427917266214973"
      ]
     },
     "execution_count": 26,
     "metadata": {},
     "output_type": "execute_result"
    }
   ],
   "source": [
    "model.intercept_\n"
   ]
  },
  {
   "cell_type": "code",
   "execution_count": 27,
   "id": "49a01a8b",
   "metadata": {},
   "outputs": [
    {
     "data": {
      "text/plain": [
       "array([ 0.10925519, -0.07225437,  0.00038466])"
      ]
     },
     "execution_count": 27,
     "metadata": {},
     "output_type": "execute_result"
    }
   ],
   "source": [
    "model.coef_\n"
   ]
  },
  {
   "cell_type": "code",
   "execution_count": 46,
   "id": "e60f8e9d",
   "metadata": {},
   "outputs": [
    {
     "name": "stdout",
     "output_type": "stream",
     "text": [
      "34.47613706721497\n"
     ]
    }
   ],
   "source": [
    "Pred_salePrice = 31.427917266214973+(0.10925519*27.900)\n",
    "print(Pred_salePrice)"
   ]
  },
  {
   "cell_type": "code",
   "execution_count": 47,
   "id": "b80494fb",
   "metadata": {},
   "outputs": [
    {
     "data": {
      "text/html": [
       "<div>\n",
       "<style scoped>\n",
       "    .dataframe tbody tr th:only-of-type {\n",
       "        vertical-align: middle;\n",
       "    }\n",
       "\n",
       "    .dataframe tbody tr th {\n",
       "        vertical-align: top;\n",
       "    }\n",
       "\n",
       "    .dataframe thead th {\n",
       "        text-align: right;\n",
       "    }\n",
       "</style>\n",
       "<table border=\"1\" class=\"dataframe\">\n",
       "  <thead>\n",
       "    <tr style=\"text-align: right;\">\n",
       "      <th></th>\n",
       "      <th>age</th>\n",
       "      <th>sex</th>\n",
       "      <th>bmi</th>\n",
       "      <th>children</th>\n",
       "      <th>smoker</th>\n",
       "      <th>region</th>\n",
       "      <th>charges</th>\n",
       "    </tr>\n",
       "  </thead>\n",
       "  <tbody>\n",
       "    <tr>\n",
       "      <th>0</th>\n",
       "      <td>19</td>\n",
       "      <td>female</td>\n",
       "      <td>27.900</td>\n",
       "      <td>0</td>\n",
       "      <td>yes</td>\n",
       "      <td>southwest</td>\n",
       "      <td>16884.92400</td>\n",
       "    </tr>\n",
       "    <tr>\n",
       "      <th>1</th>\n",
       "      <td>18</td>\n",
       "      <td>male</td>\n",
       "      <td>33.770</td>\n",
       "      <td>1</td>\n",
       "      <td>no</td>\n",
       "      <td>southeast</td>\n",
       "      <td>1725.55230</td>\n",
       "    </tr>\n",
       "    <tr>\n",
       "      <th>2</th>\n",
       "      <td>28</td>\n",
       "      <td>male</td>\n",
       "      <td>33.000</td>\n",
       "      <td>3</td>\n",
       "      <td>no</td>\n",
       "      <td>southeast</td>\n",
       "      <td>4449.46200</td>\n",
       "    </tr>\n",
       "    <tr>\n",
       "      <th>3</th>\n",
       "      <td>33</td>\n",
       "      <td>male</td>\n",
       "      <td>22.705</td>\n",
       "      <td>0</td>\n",
       "      <td>no</td>\n",
       "      <td>northwest</td>\n",
       "      <td>21984.47061</td>\n",
       "    </tr>\n",
       "    <tr>\n",
       "      <th>4</th>\n",
       "      <td>32</td>\n",
       "      <td>male</td>\n",
       "      <td>28.880</td>\n",
       "      <td>0</td>\n",
       "      <td>no</td>\n",
       "      <td>northwest</td>\n",
       "      <td>3866.85520</td>\n",
       "    </tr>\n",
       "  </tbody>\n",
       "</table>\n",
       "</div>"
      ],
      "text/plain": [
       "   age     sex     bmi  children smoker     region      charges\n",
       "0   19  female  27.900         0    yes  southwest  16884.92400\n",
       "1   18    male  33.770         1     no  southeast   1725.55230\n",
       "2   28    male  33.000         3     no  southeast   4449.46200\n",
       "3   33    male  22.705         0     no  northwest  21984.47061\n",
       "4   32    male  28.880         0     no  northwest   3866.85520"
      ]
     },
     "execution_count": 47,
     "metadata": {},
     "output_type": "execute_result"
    }
   ],
   "source": [
    "df.head()"
   ]
  },
  {
   "cell_type": "code",
   "execution_count": 48,
   "id": "fe7e4482",
   "metadata": {},
   "outputs": [],
   "source": [
    "org_salePrice = 19.0\n"
   ]
  },
  {
   "cell_type": "code",
   "execution_count": 49,
   "id": "49467609",
   "metadata": {},
   "outputs": [
    {
     "name": "stdout",
     "output_type": "stream",
     "text": [
      "15.476137067214971\n"
     ]
    }
   ],
   "source": [
    "\n",
    "error1 = (Pred_salePrice-org_salePrice)\n",
    "print(error1)\n"
   ]
  },
  {
   "cell_type": "code",
   "execution_count": 50,
   "id": "84e289ac",
   "metadata": {},
   "outputs": [],
   "source": [
    "from sklearn.metrics import mean_squared_error\n",
    "import numpy as np"
   ]
  },
  {
   "cell_type": "code",
   "execution_count": 51,
   "id": "724273f1",
   "metadata": {},
   "outputs": [],
   "source": [
    "mse = mean_squared_error(y_test, pred_sp)\n"
   ]
  },
  {
   "cell_type": "code",
   "execution_count": 52,
   "id": "3b8af3dc",
   "metadata": {},
   "outputs": [],
   "source": [
    "rmse = np.sqrt(mse)\n"
   ]
  },
  {
   "cell_type": "code",
   "execution_count": 53,
   "id": "7a920700",
   "metadata": {},
   "outputs": [
    {
     "name": "stdout",
     "output_type": "stream",
     "text": [
      "13.60718233468424\n"
     ]
    }
   ],
   "source": [
    "print(rmse)\n"
   ]
  },
  {
   "cell_type": "code",
   "execution_count": 54,
   "id": "f719455f",
   "metadata": {},
   "outputs": [
    {
     "data": {
      "text/html": [
       "<div>\n",
       "<style scoped>\n",
       "    .dataframe tbody tr th:only-of-type {\n",
       "        vertical-align: middle;\n",
       "    }\n",
       "\n",
       "    .dataframe tbody tr th {\n",
       "        vertical-align: top;\n",
       "    }\n",
       "\n",
       "    .dataframe thead th {\n",
       "        text-align: right;\n",
       "    }\n",
       "</style>\n",
       "<table border=\"1\" class=\"dataframe\">\n",
       "  <thead>\n",
       "    <tr style=\"text-align: right;\">\n",
       "      <th></th>\n",
       "      <th>Coeffecient</th>\n",
       "    </tr>\n",
       "  </thead>\n",
       "  <tbody>\n",
       "    <tr>\n",
       "      <th>bmi</th>\n",
       "      <td>0.109255</td>\n",
       "    </tr>\n",
       "    <tr>\n",
       "      <th>children</th>\n",
       "      <td>-0.072254</td>\n",
       "    </tr>\n",
       "    <tr>\n",
       "      <th>charges</th>\n",
       "      <td>0.000385</td>\n",
       "    </tr>\n",
       "  </tbody>\n",
       "</table>\n",
       "</div>"
      ],
      "text/plain": [
       "          Coeffecient\n",
       "bmi          0.109255\n",
       "children    -0.072254\n",
       "charges      0.000385"
      ]
     },
     "execution_count": 54,
     "metadata": {},
     "output_type": "execute_result"
    }
   ],
   "source": [
    "coeffecients = pd.DataFrame(model.coef_,df_X.columns)\n",
    "coeffecients.columns = ['Coeffecient']\n",
    "coeffecients"
   ]
  },
  {
   "cell_type": "code",
   "execution_count": 55,
   "id": "3ad0f455",
   "metadata": {},
   "outputs": [],
   "source": [
    "predictions = model.predict( X_test)"
   ]
  },
  {
   "cell_type": "code",
   "execution_count": 56,
   "id": "860afb45",
   "metadata": {},
   "outputs": [
    {
     "name": "stdout",
     "output_type": "stream",
     "text": [
      "MAE: 11.551467613552706\n",
      "MSE: 185.15541108934283\n",
      "RMSE: 13.60718233468424\n"
     ]
    }
   ],
   "source": [
    "from sklearn import metrics\n",
    "\n",
    "print('MAE:', metrics.mean_absolute_error(y_test, predictions))\n",
    "print('MSE:', metrics.mean_squared_error(y_test, predictions))\n",
    "print('RMSE:', np.sqrt(metrics.mean_squared_error(y_test, predictions)))"
   ]
  },
  {
   "cell_type": "code",
   "execution_count": 57,
   "id": "593375d5",
   "metadata": {},
   "outputs": [
    {
     "data": {
      "text/plain": [
       "Text(0, 0.5, 'Predicted Y')"
      ]
     },
     "execution_count": 57,
     "metadata": {},
     "output_type": "execute_result"
    },
    {
     "data": {
      "image/png": "[encoded data removed]",
      "text/plain": [
       "<Figure size 432x288 with 1 Axes>"
      ]
     },
     "metadata": {
      "needs_background": "light"
     },
     "output_type": "display_data"
    }
   ],
   "source": [
    "plt.scatter(y_test,predictions)\n",
    "plt.xlabel('Y Test')\n",
    "plt.ylabel('Predicted Y')\n"
   ]
  },
  {
   "cell_type": "code",
   "execution_count": 58,
   "id": "577af732",
   "metadata": {},
   "outputs": [
    {
     "name": "stderr",
     "output_type": "stream",
     "text": [
      "C:\\Users\\venua\\anaconda3\\lib\\site-packages\\seaborn\\distributions.py:2619: FutureWarning: `distplot` is a deprecated function and will be removed in a future version. Please adapt your code to use either `displot` (a figure-level function with similar flexibility) or `histplot` (an axes-level function for histograms).\n",
      "  warnings.warn(msg, FutureWarning)\n"
     ]
    },
    {
     "data": {
      "image/png": "[encoded data removed]",
      "text/plain": [
       "<Figure size 432x288 with 1 Axes>"
      ]
     },
     "metadata": {
      "needs_background": "light"
     },
     "output_type": "display_data"
    }
   ],
   "source": [
    "sns.distplot((y_test-predictions),bins=50);"
   ]
  },
  {
   "cell_type": "code",
   "execution_count": null,
   "id": "ff3c30ee",
   "metadata": {},
   "outputs": [],
   "source": []
  }
 ],
 "metadata": {
  "kernelspec": {
   "display_name": "Python 3 (ipykernel)",
   "language": "python",
   "name": "python3"
  },
  "language_info": {
   "codemirror_mode": {
    "name": "ipython",
    "version": 3
   },
   "file_extension": ".py",
   "mimetype": "text/x-python",
   "name": "python",
   "nbconvert_exporter": "python",
   "pygments_lexer": "ipython3",
   "version": "3.9.7"
  }
 },
 "nbformat": 4,
 "nbformat_minor": 5
}
